{
  "nbformat": 4,
  "nbformat_minor": 0,
  "metadata": {
    "colab": {
      "name": "barplot_frequency_distributions.ipynb",
      "provenance": [],
      "collapsed_sections": []
    },
    "kernelspec": {
      "display_name": "Python 3",
      "name": "python3"
    },
    "pycharm": {
      "stem_cell": {
        "cell_type": "raw",
        "source": [],
        "metadata": {
          "collapsed": false
        }
      }
    }
  },
  "cells": [
    {
      "cell_type": "code",
      "metadata": {
        "colab_type": "code",
        "id": "kUJc5NL0UdgF",
        "colab": {}
      },
      "source": [
        "import pandas as pd\n",
        "from wfa_cardinality_estimation_evaluation_framework.common import plotting"
      ],
      "execution_count": 5,
      "outputs": []
    },
    {
      "cell_type": "code",
      "metadata": {
        "colab_type": "code",
        "id": "C9B62JitUovT",
        "colab": {}
      },
      "source": [
        "# Copied from src/commom/tests/plotting_test.py.\n",
        "def get_df_for_test_barplot_frequency_distributions():\n",
        "  return pd.DataFrame({\n",
        "      'run_index': [0, 0, 0, 0, 1, 1, 1, 1],\n",
        "      'cardinality_source': ['estimated_cardinality', 'estimated_cardinality',\n",
        "                             'true_cardinality', 'true_cardinality'] * 2,\n",
        "      'frequency_level': [1, 2, 1, 2] * 2,\n",
        "      'cardinality_value': [12, 5, 10, 7, 8, 8, 10, 7]\n",
        "  })\n"
      ],
      "execution_count": 3,
      "outputs": []
    },
    {
      "cell_type": "code",
      "metadata": {
        "id": "zV1rhBchrzXw",
        "colab_type": "code",
        "colab": {
          "base_uri": "https://localhost:8080/",
          "height": 686
        },
        "outputId": "b430c151-010a-42ef-a821-bb515e0fb13f"
      },
      "source": [
        "df = get_df_for_test_barplot_frequency_distributions()\n",
        "plotting.barplot_frequency_distributions(\n",
        "    df=df,\n",
        "    frequency='frequency_level',\n",
        "    cardinality='cardinality_value',\n",
        "    source='cardinality_source')"
      ],
      "execution_count": 9,
      "outputs": [
        {
          "output_type": "stream",
          "text": [
            "/usr/local/lib/python3.6/dist-packages/seaborn/categorical.py:3717: UserWarning: catplot is a figure-level function and does not accept target axes. You may wish to try barplot\n",
            "  warnings.warn(msg, UserWarning)\n"
          ],
          "name": "stderr"
        },
        {
          "output_type": "execute_result",
          "data": {
            "text/plain": [
              "<matplotlib.axes._subplots.AxesSubplot at 0x7f891352fdd8>"
            ]
          },
          "metadata": {
            "tags": []
          },
          "execution_count": 9
        },
        {
          "output_type": "display_data",
          "data": {
            "image/png": "[encoded data removed]",
            "text/plain": [
              "<Figure size 432x288 with 1 Axes>"
            ]
          },
          "metadata": {
            "tags": [],
            "needs_background": "light"
          }
        },
        {
          "output_type": "display_data",
          "data": {
            "image/png": "[encoded data removed]",
            "text/plain": [
              "<Figure size 504.125x360 with 1 Axes>"
            ]
          },
          "metadata": {
            "tags": [],
            "needs_background": "light"
          }
        }
      ]
    }
  ]
}
